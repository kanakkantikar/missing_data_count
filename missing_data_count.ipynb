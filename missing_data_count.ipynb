{
 "cells": [
  {
   "cell_type": "code",
   "execution_count": 35,
   "id": "c4626075",
   "metadata": {},
   "outputs": [],
   "source": [
    "#import libraries\n",
    "import pandas as pd\n",
    "import numpy as np\n",
    "import io, os, csv\n",
    "import glob\n",
    "import datetime as dt"
   ]
  },
  {
   "cell_type": "markdown",
   "id": "3308f1be",
   "metadata": {},
   "source": [
    "# Number of Missing Data Calculation"
   ]
  },
  {
   "cell_type": "code",
   "execution_count": 36,
   "id": "bcb4f873",
   "metadata": {},
   "outputs": [],
   "source": [
    "input_file = \"USC00250075.csv\"\n",
    "data = pd.read_csv(input_file)"
   ]
  },
  {
   "cell_type": "code",
   "execution_count": 37,
   "id": "913a0886",
   "metadata": {},
   "outputs": [],
   "source": [
    "#covert \"date\" pandas format to \"datetime\" format \n",
    "data['DATE'] = pd.to_datetime(data['DATE'])\n",
    "\n",
    "#separate day, month and year\n",
    "data['day'] = data['DATE'].dt.day\n",
    "data['month'] = data['DATE'].dt.month\n",
    "data['year'] = data['DATE'].dt.year"
   ]
  },
  {
   "cell_type": "code",
   "execution_count": 38,
   "id": "f79225ea",
   "metadata": {},
   "outputs": [],
   "source": [
    "#create a new dataframe\n",
    "data_new = pd.DataFrame(data, columns=['RAINFALL','day', 'month', 'year'])"
   ]
  },
  {
   "cell_type": "markdown",
   "id": "49f46cd4",
   "metadata": {},
   "source": [
    "#### start missing count days "
   ]
  },
  {
   "cell_type": "code",
   "execution_count": 39,
   "id": "5525b6c3",
   "metadata": {},
   "outputs": [],
   "source": [
    "#count of existing number of data\n",
    "\n",
    "k = 0\n",
    "month_list = []\n",
    "for i in range(1981, 2021): #we specifed the years (e.g.: start =1981, end= 2021)\n",
    "    if (( i%400 == 0)or (( i%4 == 0 ) and ( i%100 != 0))):\n",
    "        k = 1\n",
    "    #missing_count.append({'year':i})\n",
    "    month_list.append(i)\n",
    "    for j in range(1, 13):\n",
    "        count = data_new[(data_new['year']==i) & (data_new['month']==j)]['day'].count()\n",
    "        if j in [1,3,5,7,8,10,12]: #months with 31 days\n",
    "            total = 31\n",
    "        elif j in [4,6,9,11]: #months with 30 days\n",
    "            total = 30\n",
    "        else:\n",
    "            if k == 1:\n",
    "                total = 29 #february months with 29 days (with leapyear)\n",
    "            else:\n",
    "                total = 28 #february months with 28 days (without leapyear)\n",
    "                \n",
    "        missing = total - count #count missing data\n",
    "        month_list.append(missing)"
   ]
  },
  {
   "cell_type": "code",
   "execution_count": 40,
   "id": "a501ea30",
   "metadata": {},
   "outputs": [],
   "source": [
    "#create array and reshape the months\n",
    "month_list = np.asarray(month_list)\n",
    "month_list.shape\n",
    "month_list_all = np.reshape(month_list, (40,13))"
   ]
  },
  {
   "cell_type": "code",
   "execution_count": 41,
   "id": "13f860a0",
   "metadata": {},
   "outputs": [],
   "source": [
    "#year and monthwise missing data preparation and create a \"pandas\" dataframe\n",
    "missing_number = []\n",
    "missing_count = pd.DataFrame(month_list_all, columns = ['Year','Jan', 'Feb', 'Mar', 'Apr', 'May', 'Jun', 'Jul', 'Aug', 'Sep', 'Oct', 'Nov', 'Dec'])"
   ]
  },
  {
   "cell_type": "code",
   "execution_count": 42,
   "id": "7ba32fca",
   "metadata": {},
   "outputs": [],
   "source": [
    "#create a \"CSV\" file\n",
    "months =  ['Jan', 'Feb', 'Mar', 'Apr', 'May', 'Jun', 'Jul', 'Aug', 'Sep', 'Oct', 'Nov', 'Dec']\n",
    "\n",
    "missing_count['Total'] = 0\n",
    "missing_count['Total'] = missing_count[months].sum(axis=1)\n",
    "missing_count.to_csv('missing_data.csv')"
   ]
  },
  {
   "cell_type": "code",
   "execution_count": null,
   "id": "e27883d2",
   "metadata": {},
   "outputs": [],
   "source": []
  }
 ],
 "metadata": {
  "kernelspec": {
   "display_name": "Python 3 (ipykernel)",
   "language": "python",
   "name": "python3"
  },
  "language_info": {
   "codemirror_mode": {
    "name": "ipython",
    "version": 3
   },
   "file_extension": ".py",
   "mimetype": "text/x-python",
   "name": "python",
   "nbconvert_exporter": "python",
   "pygments_lexer": "ipython3",
   "version": "3.9.12"
  }
 },
 "nbformat": 4,
 "nbformat_minor": 5
}
